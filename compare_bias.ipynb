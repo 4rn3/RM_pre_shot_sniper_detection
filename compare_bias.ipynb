{
 "cells": [
  {
   "cell_type": "code",
   "execution_count": 1,
   "metadata": {},
   "outputs": [
    {
     "name": "stdout",
     "output_type": "stream",
     "text": [
      "True\n"
     ]
    }
   ],
   "source": [
    "import os\n",
    "import shutil\n",
    "\n",
    "import pandas as pd\n",
    "import numpy as np\n",
    "import matplotlib.pyplot as plt\n",
    "%matplotlib inline\n",
    "\n",
    "import torch\n",
    "print(torch.cuda.is_available())\n",
    "\n",
    "from ultralytics import YOLO\n",
    "\n",
    "np.random.seed(42)"
   ]
  },
  {
   "cell_type": "code",
   "execution_count": 11,
   "metadata": {},
   "outputs": [],
   "source": [
    "#move labels to corresponding location\n",
    "for env in [\"snow\", \"dessert\"]:\n",
    "    for train_test_val in [\"train\", \"test\", \"valid\"]:\n",
    "        for f in os.listdir(f\"./data/bias/{env}/{train_test_val}/images\"):\n",
    "            f_name = f[:-3]+\"txt\"\n",
    "            shutil.copy(f\"./data/raw/labels/{f_name}\", f\"./data/bias/{env}/{train_test_val}/labels/{f_name}\")"
   ]
  },
  {
   "cell_type": "code",
   "execution_count": 2,
   "metadata": {},
   "outputs": [],
   "source": [
    "DATA_PATH = \"E:\\\\OU\\\\master\\\\rm\\\\pre_shot_sniper_detection\\\\data\\\\data_aug_bias_dessert.yaml\"\n",
    "model = YOLO(\"./runs/weights_normal/350_imgs/weights/best.pt\")"
   ]
  },
  {
   "cell_type": "code",
   "execution_count": 3,
   "metadata": {},
   "outputs": [
    {
     "name": "stderr",
     "output_type": "stream",
     "text": [
      "Ultralytics YOLOv8.0.200  Python-3.9.18 torch-2.1.0+cu118 CUDA:0 (NVIDIA GeForce RTX 3080, 10239MiB)\n",
      "Model summary (fused): 168 layers, 3005843 parameters, 0 gradients, 8.1 GFLOPs\n",
      "\u001b[34m\u001b[1mval: \u001b[0mScanning E:\\OU\\master\\rm\\pre_shot_sniper_detection\\data\\bias\\dessert\\valid\\labels... 46 images, 0 backgrounds, 0 corrupt: 100%|██████████| 46/46 [00:00<00:00, 1044.73it/s]\n",
      "\u001b[34m\u001b[1mval: \u001b[0mNew cache created: E:\\OU\\master\\rm\\pre_shot_sniper_detection\\data\\bias\\dessert\\valid\\labels.cache\n",
      "                 Class     Images  Instances      Box(P          R      mAP50  mAP50-95): 100%|██████████| 3/3 [00:03<00:00,  1.19s/it]\n",
      "                   all         46         53       0.78      0.566      0.607      0.332\n",
      "Speed: 2.0ms preprocess, 8.3ms inference, 0.0ms loss, 1.2ms postprocess per image\n",
      "Results saved to \u001b[1mruns\\detect\\val10\u001b[0m\n"
     ]
    },
    {
     "data": {
      "text/plain": [
       "{'metrics/precision(B)': 0.7804080020807009,\n",
       " 'metrics/recall(B)': 0.5660377358490566,\n",
       " 'metrics/mAP50(B)': 0.6074543304671212,\n",
       " 'metrics/mAP50-95(B)': 0.3317384728136813,\n",
       " 'fitness': 0.3593100585790253}"
      ]
     },
     "execution_count": 3,
     "metadata": {},
     "output_type": "execute_result"
    }
   ],
   "source": [
    "results_dessert = model.val(data=DATA_PATH)\n",
    "results_dessert.results_dict"
   ]
  },
  {
   "cell_type": "code",
   "execution_count": 4,
   "metadata": {},
   "outputs": [],
   "source": [
    "DATA_PATH = \"E:\\\\OU\\\\master\\\\rm\\\\pre_shot_sniper_detection\\\\data\\\\data_aug_bias_snow.yaml\"\n",
    "model = YOLO(\"./runs/weights_normal/350_imgs/weights/best.pt\")"
   ]
  },
  {
   "cell_type": "code",
   "execution_count": 5,
   "metadata": {},
   "outputs": [
    {
     "name": "stderr",
     "output_type": "stream",
     "text": [
      "Ultralytics YOLOv8.0.200  Python-3.9.18 torch-2.1.0+cu118 CUDA:0 (NVIDIA GeForce RTX 3080, 10239MiB)\n",
      "Model summary (fused): 168 layers, 3005843 parameters, 0 gradients, 8.1 GFLOPs\n",
      "\u001b[34m\u001b[1mval: \u001b[0mScanning E:\\OU\\master\\rm\\pre_shot_sniper_detection\\data\\bias\\snow\\valid\\labels... 46 images, 0 backgrounds, 0 corrupt: 100%|██████████| 46/46 [00:00<00:00, 908.09it/s]\n",
      "\u001b[34m\u001b[1mval: \u001b[0mNew cache created: E:\\OU\\master\\rm\\pre_shot_sniper_detection\\data\\bias\\snow\\valid\\labels.cache\n",
      "                 Class     Images  Instances      Box(P          R      mAP50  mAP50-95): 100%|██████████| 3/3 [00:04<00:00,  1.37s/it]\n",
      "                   all         46         53       0.76      0.566      0.564      0.306\n",
      "Speed: 6.4ms preprocess, 2.1ms inference, 0.0ms loss, 1.9ms postprocess per image\n",
      "Results saved to \u001b[1mruns\\detect\\val11\u001b[0m\n"
     ]
    },
    {
     "data": {
      "text/plain": [
       "{'metrics/precision(B)': 0.7595231903749659,\n",
       " 'metrics/recall(B)': 0.5660377358490566,\n",
       " 'metrics/mAP50(B)': 0.5635075152279464,\n",
       " 'metrics/mAP50-95(B)': 0.30575799343264776,\n",
       " 'fitness': 0.3315329456121776}"
      ]
     },
     "execution_count": 5,
     "metadata": {},
     "output_type": "execute_result"
    }
   ],
   "source": [
    "results_snow = model.val(data=DATA_PATH)\n",
    "results_snow.results_dict"
   ]
  },
  {
   "cell_type": "code",
   "execution_count": null,
   "metadata": {},
   "outputs": [],
   "source": [
    "results_snow = model.val(data=\"./data/bias/snow/\")\n",
    "results_snow.results_dict"
   ]
  }
 ],
 "metadata": {
  "kernelspec": {
   "display_name": "sniper",
   "language": "python",
   "name": "python3"
  },
  "language_info": {
   "codemirror_mode": {
    "name": "ipython",
    "version": 3
   },
   "file_extension": ".py",
   "mimetype": "text/x-python",
   "name": "python",
   "nbconvert_exporter": "python",
   "pygments_lexer": "ipython3",
   "version": "3.9.18"
  }
 },
 "nbformat": 4,
 "nbformat_minor": 2
}
