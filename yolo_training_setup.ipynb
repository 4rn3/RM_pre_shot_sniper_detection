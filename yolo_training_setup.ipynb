{
 "cells": [
  {
   "cell_type": "markdown",
   "metadata": {},
   "source": [
    "# Imports"
   ]
  },
  {
   "cell_type": "code",
   "execution_count": 1,
   "metadata": {},
   "outputs": [
    {
     "name": "stdout",
     "output_type": "stream",
     "text": [
      "True\n"
     ]
    }
   ],
   "source": [
    "import random\n",
    "import os\n",
    "import shutil\n",
    "\n",
    "from IPython.display import display_html\n",
    "\n",
    "import pandas as pd\n",
    "import numpy as np\n",
    "import matplotlib.pyplot as plt\n",
    "%matplotlib inline\n",
    "\n",
    "import cv2\n",
    "\n",
    "import torch\n",
    "print(torch.cuda.is_available())\n",
    "\n",
    "from ultralytics import YOLO\n",
    "\n",
    "np.random.seed(42)\n",
    "#DATA_PATH = \"E:\\\\OU\\\\master\\\\rm\\\\pre_shot_sniper_detection\\\\data\\\\data.yaml\" #must be absolute path\n",
    "DATA_PATH = \"E:\\\\OU\\\\master\\\\rm\\\\pre_shot_sniper_detection\\\\data\\\\data_aug.yaml\" #For aug part"
   ]
  },
  {
   "cell_type": "markdown",
   "metadata": {},
   "source": [
    "# Functions"
   ]
  },
  {
   "cell_type": "code",
   "execution_count": 2,
   "metadata": {},
   "outputs": [],
   "source": [
    "def remove_cache():\n",
    "    for directory in [\"train\", \"test\", \"valid\"]:\n",
    "        path = f\"./data/{directory}/labels.cache\"\n",
    "        if os.path.isfile(path):\n",
    "            os.remove(path)"
   ]
  },
  {
   "cell_type": "code",
   "execution_count": 4,
   "metadata": {},
   "outputs": [],
   "source": [
    "def poly_or_square(bb_file_path:str):\n",
    "    with open(bb_file_path, \"r\") as file:\n",
    "        return len(file.read().split())"
   ]
  },
  {
   "cell_type": "code",
   "execution_count": 3,
   "metadata": {},
   "outputs": [],
   "source": [
    "def select_imgs(num_imgs:int):\n",
    "    remove_cache()\n",
    "    \n",
    "    num_train = int(num_imgs *0.8)\n",
    "    num_val = int(num_imgs *0.1)\n",
    "    \n",
    "    img_path = \"./data/raw/images/\"\n",
    "    bb_path = \"./data/raw/labels/\"\n",
    "    \n",
    "    files = os.listdir(img_path)[:num_imgs]        \n",
    "    \n",
    "    for file in files[:num_train]:\n",
    "        img_file = file[:-3]+\"jpg\" \n",
    "        bb_file = file[:-3]+\"txt\"\n",
    "        \n",
    "        if poly_or_square(f\"{bb_path}{bb_file}\") == 5:\n",
    "            ### Don't forget to change the paths ##\n",
    "            shutil.copy(img_path+img_file, f\"./data/aug/train/images/{img_file}\")\n",
    "            shutil.copy(bb_path+bb_file, f\"./data/aug/train/labels/{bb_file}\")\n",
    "            \n",
    "    for file in files[num_train:num_train+num_val]:\n",
    "        img_file = file[:-3]+\"jpg\" \n",
    "        bb_file = file[:-3]+\"txt\"\n",
    "        ### Don't forget to change the paths ##\n",
    "        if poly_or_square(f\"{bb_path}{bb_file}\") == 5:\n",
    "            shutil.copy(img_path+img_file, f\"./data/aug/valid/images/{img_file}\")\n",
    "            shutil.copy(bb_path+bb_file, f\"./data/aug/valid/labels/{bb_file}\")\n",
    "    \n",
    "    for file in files[num_train+num_val:]:\n",
    "        img_file = file[:-3]+\"jpg\" \n",
    "        bb_file = file[:-3]+\"txt\"\n",
    "        ### Don't forget to change the paths ##\n",
    "        if poly_or_square(f\"{bb_path}{bb_file}\") == 5:\n",
    "            shutil.copy(img_path+img_file, f\"./data/aug/test/images/{img_file}\")\n",
    "            shutil.copy(bb_path+bb_file, f\"./data/aug/test/labels/{bb_file}\")"
   ]
  },
  {
   "cell_type": "code",
   "execution_count": null,
   "metadata": {},
   "outputs": [],
   "source": [
    "def restartkernel() :\n",
    "    display_html(\"<script>Jupyter.notebook.kernel.restart()</script>\",raw=True)"
   ]
  },
  {
   "cell_type": "code",
   "execution_count": 4,
   "metadata": {},
   "outputs": [],
   "source": [
    "def train(name:str):\n",
    "    model = YOLO(\"./yolov8n.pt\")\n",
    "    res_train = model.train(data=DATA_PATH, epochs=100, imgsz=640, name=name, device=0, project=\"augmented\")\n",
    "    res_val = model.val(name=name+\"_val\") #conf is 0.001\n",
    "    del model\n",
    "    torch.cuda.empty_cache()\n",
    "    return res_train, res_val"
   ]
  },
  {
   "cell_type": "code",
   "execution_count": null,
   "metadata": {},
   "outputs": [],
   "source": []
  }
 ],
 "metadata": {
  "kernelspec": {
   "display_name": "sniper",
   "language": "python",
   "name": "python3"
  },
  "language_info": {
   "codemirror_mode": {
    "name": "ipython",
    "version": 3
   },
   "file_extension": ".py",
   "mimetype": "text/x-python",
   "name": "python",
   "nbconvert_exporter": "python",
   "pygments_lexer": "ipython3",
   "version": "3.9.18"
  }
 },
 "nbformat": 4,
 "nbformat_minor": 2
}
